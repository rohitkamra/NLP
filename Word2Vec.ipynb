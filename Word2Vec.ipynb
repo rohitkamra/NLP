{
  "nbformat": 4,
  "nbformat_minor": 0,
  "metadata": {
    "colab": {
      "name": "Word2Vec.ipynb",
      "provenance": []
    },
    "kernelspec": {
      "name": "python3",
      "display_name": "Python 3"
    }
  },
  "cells": [
    {
      "cell_type": "markdown",
      "metadata": {
        "id": "jSOhUQibLTbY"
      },
      "source": [
        "#### Word to Vec\n",
        "Each word is represented as a vector of 32 or more dimensions instead of single number like TF-IDF or Bag of words\n",
        "Advantage- Store semantic relation and relation between different words\n",
        "\n",
        "**King-Man+Woman = Queen**"
      ]
    },
    {
      "cell_type": "markdown",
      "metadata": {
        "id": "hMFWH415PDzn"
      },
      "source": [
        "Steps:-\n",
        "\n",
        "1.   Tokenization\n",
        "2.   Histograms\n",
        "3.   Most Frequent words\n",
        "4.   Matrix with all unique words, shows relations between words\n",
        "\n",
        "Use Gensim library and create word2Vec\n",
        "\n"
      ]
    },
    {
      "cell_type": "code",
      "metadata": {
        "id": "mnU5qAs5Lo96",
        "outputId": "f82ef1aa-ae30-41f9-9444-d6a9b3053c1b",
        "colab": {
          "base_uri": "https://localhost:8080/",
          "height": 52
        }
      },
      "source": [
        "!pip install nltk"
      ],
      "execution_count": 1,
      "outputs": [
        {
          "output_type": "stream",
          "text": [
            "Requirement already satisfied: nltk in /usr/local/lib/python3.6/dist-packages (3.2.5)\n",
            "Requirement already satisfied: six in /usr/local/lib/python3.6/dist-packages (from nltk) (1.15.0)\n"
          ],
          "name": "stdout"
        }
      ]
    },
    {
      "cell_type": "code",
      "metadata": {
        "id": "wejeVNTLPsuR",
        "outputId": "8a323e2c-9e22-4c22-da2f-101121c07acb",
        "colab": {
          "base_uri": "https://localhost:8080/",
          "height": 211
        }
      },
      "source": [
        "!pip install gensim"
      ],
      "execution_count": 4,
      "outputs": [
        {
          "output_type": "stream",
          "text": [
            "Requirement already satisfied: gensim in /usr/local/lib/python3.6/dist-packages (3.6.0)\n",
            "Requirement already satisfied: smart-open>=1.2.1 in /usr/local/lib/python3.6/dist-packages (from gensim) (2.2.0)\n",
            "Requirement already satisfied: numpy>=1.11.3 in /usr/local/lib/python3.6/dist-packages (from gensim) (1.18.5)\n",
            "Requirement already satisfied: six>=1.5.0 in /usr/local/lib/python3.6/dist-packages (from gensim) (1.15.0)\n",
            "Requirement already satisfied: scipy>=0.18.1 in /usr/local/lib/python3.6/dist-packages (from gensim) (1.4.1)\n",
            "Requirement already satisfied: requests in /usr/local/lib/python3.6/dist-packages (from smart-open>=1.2.1->gensim) (2.23.0)\n",
            "Requirement already satisfied: chardet<4,>=3.0.2 in /usr/local/lib/python3.6/dist-packages (from requests->smart-open>=1.2.1->gensim) (3.0.4)\n",
            "Requirement already satisfied: certifi>=2017.4.17 in /usr/local/lib/python3.6/dist-packages (from requests->smart-open>=1.2.1->gensim) (2020.6.20)\n",
            "Requirement already satisfied: idna<3,>=2.5 in /usr/local/lib/python3.6/dist-packages (from requests->smart-open>=1.2.1->gensim) (2.10)\n",
            "Requirement already satisfied: urllib3!=1.25.0,!=1.25.1,<1.26,>=1.21.1 in /usr/local/lib/python3.6/dist-packages (from requests->smart-open>=1.2.1->gensim) (1.24.3)\n"
          ],
          "name": "stdout"
        }
      ]
    },
    {
      "cell_type": "code",
      "metadata": {
        "id": "b1KEXm5TP1cY"
      },
      "source": [
        "import nltk, re\n",
        "from gensim.models import Word2Vec\n",
        "from nltk.corpus import stopwords"
      ],
      "execution_count": 8,
      "outputs": []
    },
    {
      "cell_type": "code",
      "metadata": {
        "id": "xPI1ZhmyQFNA"
      },
      "source": [
        "modi_txt = \"\"\"Narendra Damodardas Modi (Gujarati pronunciation: [ˈnəɾendrə dɑmodəɾˈdɑs ˈmodiː] (About this soundlisten); born 17 September 1950) is an Indian politician serving as the 14th and current Prime Minister of India since 2014. He was the Chief Minister of Gujarat from 2001 to 2014 and is the Member of Parliament for Varanasi. Modi is a member of the Bharatiya Janata Party (BJP) and of the Rashtriya Swayamsevak Sangh (RSS), a Hindu nationalist volunteer organisation. He is the first prime minister outside of the Indian National Congress to win two consecutive terms with a full majority and the second to complete more than five years in office after Atal Bihari Vajpayee.[2]\n",
        "\n",
        "Born to a Gujarati family in Vadnagar, Modi helped his father sell tea as a child and has said he later ran his own stall. He was introduced to the RSS at the age of eight, beginning a long association with the organisation. Modi left home after finishing high-school in part due to child marriage to Jashodaben Chimanlal Modi, which he abandoned and publicly acknowledged only many decades later. Modi travelled around India for two years and visited a number of religious centres before returning to Gujarat. In 1971 he became a full-time worker for the RSS. During the state of emergency imposed across the country in 1975, Modi was forced to go into hiding. The RSS assigned him to the BJP in 1985 and he held several positions within the party hierarchy until 2001, rising to the rank of general secretary.\n",
        "\n",
        "Modi was appointed Chief Minister of Gujarat in 2001 due to Keshubhai Patel's failing health and poor public image following the earthquake in Bhuj. Modi was elected to the legislative assembly soon after. His administration has been considered complicit in the 2002 Gujarat riots,[a] or otherwise criticised for its handling of it. A Supreme Court-appointed Special Investigation Team found no evidence to initiate prosecution proceedings against Modi personally.[b] His policies as chief minister, credited with encouraging economic growth, have received praise.[10] His administration has been criticised for failing to significantly improve health, poverty and education indices in the state.[c]\n",
        "\n",
        "Modi led the BJP in the 2014 general election which gave the party a majority in the Indian lower house of parliament, the Lok Sabha, the first time for any single party since 1984. Modi's administration has tried to raise foreign direct investment in the Indian economy and reduced spending on healthcare and social welfare programmes. Modi has attempted to improve efficiency in the bureaucracy; he has centralised power by abolishing the Planning Commission. He began a high-profile sanitation campaign, initiated a controversial demonetisation of high-denomination banknotes and weakened or abolished environmental and labour laws.\n",
        "\n",
        "Following his party's victory in the 2019 general election, his administration revoked the special status of Jammu and Kashmir. His administration also introduced the Citizenship Amendment Act, which resulted in widespread protests across the country. Described as engineering a political realignment towards right-wing politics, Modi remains a figure of controversy domestically and internationally over his Hindu nationalist beliefs and his alleged role during the 2002 Gujarat riots, cited as evidence of an exclusionary social agenda.\"\"\""
      ],
      "execution_count": 29,
      "outputs": []
    },
    {
      "cell_type": "code",
      "metadata": {
        "id": "Co0JxPcsQhjq",
        "outputId": "746560d3-a865-4d4e-e623-8a2ed44a5f54",
        "colab": {
          "base_uri": "https://localhost:8080/",
          "height": 139
        }
      },
      "source": [
        "modi_txt = re.sub(r'[^a-zA-Z.]', ' ', modi_txt)\n",
        "modi_txt = modi_txt.lower()\n",
        "modi_txt = re.sub(r'\\s+', ' ', modi_txt)\n",
        "modi_txt"
      ],
      "execution_count": 30,
      "outputs": [
        {
          "output_type": "execute_result",
          "data": {
            "application/vnd.google.colaboratory.intrinsic+json": {
              "type": "string"
            },
            "text/plain": [
              "'narendra damodardas modi gujarati pronunciation n endr d mod d s modi about this soundlisten born september is an indian politician serving as the th and current prime minister of india since . he was the chief minister of gujarat from to and is the member of parliament for varanasi. modi is a member of the bharatiya janata party bjp and of the rashtriya swayamsevak sangh rss a hindu nationalist volunteer organisation. he is the first prime minister outside of the indian national congress to win two consecutive terms with a full majority and the second to complete more than five years in office after atal bihari vajpayee. born to a gujarati family in vadnagar modi helped his father sell tea as a child and has said he later ran his own stall. he was introduced to the rss at the age of eight beginning a long association with the organisation. modi left home after finishing high school in part due to child marriage to jashodaben chimanlal modi which he abandoned and publicly acknowledged only many decades later. modi travelled around india for two years and visited a number of religious centres before returning to gujarat. in he became a full time worker for the rss. during the state of emergency imposed across the country in modi was forced to go into hiding. the rss assigned him to the bjp in and he held several positions within the party hierarchy until rising to the rank of general secretary. modi was appointed chief minister of gujarat in due to keshubhai patel s failing health and poor public image following the earthquake in bhuj. modi was elected to the legislative assembly soon after. his administration has been considered complicit in the gujarat riots a or otherwise criticised for its handling of it. a supreme court appointed special investigation team found no evidence to initiate prosecution proceedings against modi personally. b his policies as chief minister credited with encouraging economic growth have received praise. his administration has been criticised for failing to significantly improve health poverty and education indices in the state. c modi led the bjp in the general election which gave the party a majority in the indian lower house of parliament the lok sabha the first time for any single party since . modi s administration has tried to raise foreign direct investment in the indian economy and reduced spending on healthcare and social welfare programmes. modi has attempted to improve efficiency in the bureaucracy he has centralised power by abolishing the planning commission. he began a high profile sanitation campaign initiated a controversial demonetisation of high denomination banknotes and weakened or abolished environmental and labour laws. following his party s victory in the general election his administration revoked the special status of jammu and kashmir. his administration also introduced the citizenship amendment act which resulted in widespread protests across the country. described as engineering a political realignment towards right wing politics modi remains a figure of controversy domestically and internationally over his hindu nationalist beliefs and his alleged role during the gujarat riots cited as evidence of an exclusionary social agenda.'"
            ]
          },
          "metadata": {
            "tags": []
          },
          "execution_count": 30
        }
      ]
    },
    {
      "cell_type": "code",
      "metadata": {
        "id": "i9E7F69lRMUg",
        "outputId": "c394f126-55a2-4c48-fd0b-f396f891724f",
        "colab": {
          "base_uri": "https://localhost:8080/",
          "height": 488
        }
      },
      "source": [
        "nltk.download('punkt')\n",
        "sentences = nltk.sent_tokenize(modi_txt)\n",
        "sentences"
      ],
      "execution_count": 31,
      "outputs": [
        {
          "output_type": "stream",
          "text": [
            "[nltk_data] Downloading package punkt to /root/nltk_data...\n",
            "[nltk_data]   Package punkt is already up-to-date!\n"
          ],
          "name": "stdout"
        },
        {
          "output_type": "execute_result",
          "data": {
            "text/plain": [
              "['narendra damodardas modi gujarati pronunciation n endr d mod d s modi about this soundlisten born september is an indian politician serving as the th and current prime minister of india since .',\n",
              " 'he was the chief minister of gujarat from to and is the member of parliament for varanasi.',\n",
              " 'modi is a member of the bharatiya janata party bjp and of the rashtriya swayamsevak sangh rss a hindu nationalist volunteer organisation.',\n",
              " 'he is the first prime minister outside of the indian national congress to win two consecutive terms with a full majority and the second to complete more than five years in office after atal bihari vajpayee.',\n",
              " 'born to a gujarati family in vadnagar modi helped his father sell tea as a child and has said he later ran his own stall.',\n",
              " 'he was introduced to the rss at the age of eight beginning a long association with the organisation.',\n",
              " 'modi left home after finishing high school in part due to child marriage to jashodaben chimanlal modi which he abandoned and publicly acknowledged only many decades later.',\n",
              " 'modi travelled around india for two years and visited a number of religious centres before returning to gujarat.',\n",
              " 'in he became a full time worker for the rss.',\n",
              " 'during the state of emergency imposed across the country in modi was forced to go into hiding.',\n",
              " 'the rss assigned him to the bjp in and he held several positions within the party hierarchy until rising to the rank of general secretary.',\n",
              " 'modi was appointed chief minister of gujarat in due to keshubhai patel s failing health and poor public image following the earthquake in bhuj.',\n",
              " 'modi was elected to the legislative assembly soon after.',\n",
              " 'his administration has been considered complicit in the gujarat riots a or otherwise criticised for its handling of it.',\n",
              " 'a supreme court appointed special investigation team found no evidence to initiate prosecution proceedings against modi personally.',\n",
              " 'b his policies as chief minister credited with encouraging economic growth have received praise.',\n",
              " 'his administration has been criticised for failing to significantly improve health poverty and education indices in the state.',\n",
              " 'c modi led the bjp in the general election which gave the party a majority in the indian lower house of parliament the lok sabha the first time for any single party since .',\n",
              " 'modi s administration has tried to raise foreign direct investment in the indian economy and reduced spending on healthcare and social welfare programmes.',\n",
              " 'modi has attempted to improve efficiency in the bureaucracy he has centralised power by abolishing the planning commission.',\n",
              " 'he began a high profile sanitation campaign initiated a controversial demonetisation of high denomination banknotes and weakened or abolished environmental and labour laws.',\n",
              " 'following his party s victory in the general election his administration revoked the special status of jammu and kashmir.',\n",
              " 'his administration also introduced the citizenship amendment act which resulted in widespread protests across the country.',\n",
              " 'described as engineering a political realignment towards right wing politics modi remains a figure of controversy domestically and internationally over his hindu nationalist beliefs and his alleged role during the gujarat riots cited as evidence of an exclusionary social agenda.']"
            ]
          },
          "metadata": {
            "tags": []
          },
          "execution_count": 31
        }
      ]
    },
    {
      "cell_type": "code",
      "metadata": {
        "id": "AQMt7H0ERoat",
        "outputId": "bb9b4242-c2fa-4c6d-a8ee-7829c51b805f",
        "colab": {
          "base_uri": "https://localhost:8080/",
          "height": 1000
        }
      },
      "source": [
        "new_sentences = []\n",
        "nltk.download('stopwords')\n",
        "for sentence in sentences:\n",
        "  words = nltk.word_tokenize(sentence)\n",
        "  words = [nltk.word_tokenize(word) for word in words if word not in stopwords.words('english')]\n",
        "  new_sentences.extend(words)\n",
        "\n",
        "new_sentences"
      ],
      "execution_count": 32,
      "outputs": [
        {
          "output_type": "stream",
          "text": [
            "[nltk_data] Downloading package stopwords to /root/nltk_data...\n",
            "[nltk_data]   Package stopwords is already up-to-date!\n"
          ],
          "name": "stdout"
        },
        {
          "output_type": "execute_result",
          "data": {
            "text/plain": [
              "[['narendra'],\n",
              " ['damodardas'],\n",
              " ['modi'],\n",
              " ['gujarati'],\n",
              " ['pronunciation'],\n",
              " ['n'],\n",
              " ['endr'],\n",
              " ['mod'],\n",
              " ['modi'],\n",
              " ['soundlisten'],\n",
              " ['born'],\n",
              " ['september'],\n",
              " ['indian'],\n",
              " ['politician'],\n",
              " ['serving'],\n",
              " ['th'],\n",
              " ['current'],\n",
              " ['prime'],\n",
              " ['minister'],\n",
              " ['india'],\n",
              " ['since'],\n",
              " ['.'],\n",
              " ['chief'],\n",
              " ['minister'],\n",
              " ['gujarat'],\n",
              " ['member'],\n",
              " ['parliament'],\n",
              " ['varanasi'],\n",
              " ['.'],\n",
              " ['modi'],\n",
              " ['member'],\n",
              " ['bharatiya'],\n",
              " ['janata'],\n",
              " ['party'],\n",
              " ['bjp'],\n",
              " ['rashtriya'],\n",
              " ['swayamsevak'],\n",
              " ['sangh'],\n",
              " ['rss'],\n",
              " ['hindu'],\n",
              " ['nationalist'],\n",
              " ['volunteer'],\n",
              " ['organisation'],\n",
              " ['.'],\n",
              " ['first'],\n",
              " ['prime'],\n",
              " ['minister'],\n",
              " ['outside'],\n",
              " ['indian'],\n",
              " ['national'],\n",
              " ['congress'],\n",
              " ['win'],\n",
              " ['two'],\n",
              " ['consecutive'],\n",
              " ['terms'],\n",
              " ['full'],\n",
              " ['majority'],\n",
              " ['second'],\n",
              " ['complete'],\n",
              " ['five'],\n",
              " ['years'],\n",
              " ['office'],\n",
              " ['atal'],\n",
              " ['bihari'],\n",
              " ['vajpayee'],\n",
              " ['.'],\n",
              " ['born'],\n",
              " ['gujarati'],\n",
              " ['family'],\n",
              " ['vadnagar'],\n",
              " ['modi'],\n",
              " ['helped'],\n",
              " ['father'],\n",
              " ['sell'],\n",
              " ['tea'],\n",
              " ['child'],\n",
              " ['said'],\n",
              " ['later'],\n",
              " ['ran'],\n",
              " ['stall'],\n",
              " ['.'],\n",
              " ['introduced'],\n",
              " ['rss'],\n",
              " ['age'],\n",
              " ['eight'],\n",
              " ['beginning'],\n",
              " ['long'],\n",
              " ['association'],\n",
              " ['organisation'],\n",
              " ['.'],\n",
              " ['modi'],\n",
              " ['left'],\n",
              " ['home'],\n",
              " ['finishing'],\n",
              " ['high'],\n",
              " ['school'],\n",
              " ['part'],\n",
              " ['due'],\n",
              " ['child'],\n",
              " ['marriage'],\n",
              " ['jashodaben'],\n",
              " ['chimanlal'],\n",
              " ['modi'],\n",
              " ['abandoned'],\n",
              " ['publicly'],\n",
              " ['acknowledged'],\n",
              " ['many'],\n",
              " ['decades'],\n",
              " ['later'],\n",
              " ['.'],\n",
              " ['modi'],\n",
              " ['travelled'],\n",
              " ['around'],\n",
              " ['india'],\n",
              " ['two'],\n",
              " ['years'],\n",
              " ['visited'],\n",
              " ['number'],\n",
              " ['religious'],\n",
              " ['centres'],\n",
              " ['returning'],\n",
              " ['gujarat'],\n",
              " ['.'],\n",
              " ['became'],\n",
              " ['full'],\n",
              " ['time'],\n",
              " ['worker'],\n",
              " ['rss'],\n",
              " ['.'],\n",
              " ['state'],\n",
              " ['emergency'],\n",
              " ['imposed'],\n",
              " ['across'],\n",
              " ['country'],\n",
              " ['modi'],\n",
              " ['forced'],\n",
              " ['go'],\n",
              " ['hiding'],\n",
              " ['.'],\n",
              " ['rss'],\n",
              " ['assigned'],\n",
              " ['bjp'],\n",
              " ['held'],\n",
              " ['several'],\n",
              " ['positions'],\n",
              " ['within'],\n",
              " ['party'],\n",
              " ['hierarchy'],\n",
              " ['rising'],\n",
              " ['rank'],\n",
              " ['general'],\n",
              " ['secretary'],\n",
              " ['.'],\n",
              " ['modi'],\n",
              " ['appointed'],\n",
              " ['chief'],\n",
              " ['minister'],\n",
              " ['gujarat'],\n",
              " ['due'],\n",
              " ['keshubhai'],\n",
              " ['patel'],\n",
              " ['failing'],\n",
              " ['health'],\n",
              " ['poor'],\n",
              " ['public'],\n",
              " ['image'],\n",
              " ['following'],\n",
              " ['earthquake'],\n",
              " ['bhuj'],\n",
              " ['.'],\n",
              " ['modi'],\n",
              " ['elected'],\n",
              " ['legislative'],\n",
              " ['assembly'],\n",
              " ['soon'],\n",
              " ['.'],\n",
              " ['administration'],\n",
              " ['considered'],\n",
              " ['complicit'],\n",
              " ['gujarat'],\n",
              " ['riots'],\n",
              " ['otherwise'],\n",
              " ['criticised'],\n",
              " ['handling'],\n",
              " ['.'],\n",
              " ['supreme'],\n",
              " ['court'],\n",
              " ['appointed'],\n",
              " ['special'],\n",
              " ['investigation'],\n",
              " ['team'],\n",
              " ['found'],\n",
              " ['evidence'],\n",
              " ['initiate'],\n",
              " ['prosecution'],\n",
              " ['proceedings'],\n",
              " ['modi'],\n",
              " ['personally'],\n",
              " ['.'],\n",
              " ['b'],\n",
              " ['policies'],\n",
              " ['chief'],\n",
              " ['minister'],\n",
              " ['credited'],\n",
              " ['encouraging'],\n",
              " ['economic'],\n",
              " ['growth'],\n",
              " ['received'],\n",
              " ['praise'],\n",
              " ['.'],\n",
              " ['administration'],\n",
              " ['criticised'],\n",
              " ['failing'],\n",
              " ['significantly'],\n",
              " ['improve'],\n",
              " ['health'],\n",
              " ['poverty'],\n",
              " ['education'],\n",
              " ['indices'],\n",
              " ['state'],\n",
              " ['.'],\n",
              " ['c'],\n",
              " ['modi'],\n",
              " ['led'],\n",
              " ['bjp'],\n",
              " ['general'],\n",
              " ['election'],\n",
              " ['gave'],\n",
              " ['party'],\n",
              " ['majority'],\n",
              " ['indian'],\n",
              " ['lower'],\n",
              " ['house'],\n",
              " ['parliament'],\n",
              " ['lok'],\n",
              " ['sabha'],\n",
              " ['first'],\n",
              " ['time'],\n",
              " ['single'],\n",
              " ['party'],\n",
              " ['since'],\n",
              " ['.'],\n",
              " ['modi'],\n",
              " ['administration'],\n",
              " ['tried'],\n",
              " ['raise'],\n",
              " ['foreign'],\n",
              " ['direct'],\n",
              " ['investment'],\n",
              " ['indian'],\n",
              " ['economy'],\n",
              " ['reduced'],\n",
              " ['spending'],\n",
              " ['healthcare'],\n",
              " ['social'],\n",
              " ['welfare'],\n",
              " ['programmes'],\n",
              " ['.'],\n",
              " ['modi'],\n",
              " ['attempted'],\n",
              " ['improve'],\n",
              " ['efficiency'],\n",
              " ['bureaucracy'],\n",
              " ['centralised'],\n",
              " ['power'],\n",
              " ['abolishing'],\n",
              " ['planning'],\n",
              " ['commission'],\n",
              " ['.'],\n",
              " ['began'],\n",
              " ['high'],\n",
              " ['profile'],\n",
              " ['sanitation'],\n",
              " ['campaign'],\n",
              " ['initiated'],\n",
              " ['controversial'],\n",
              " ['demonetisation'],\n",
              " ['high'],\n",
              " ['denomination'],\n",
              " ['banknotes'],\n",
              " ['weakened'],\n",
              " ['abolished'],\n",
              " ['environmental'],\n",
              " ['labour'],\n",
              " ['laws'],\n",
              " ['.'],\n",
              " ['following'],\n",
              " ['party'],\n",
              " ['victory'],\n",
              " ['general'],\n",
              " ['election'],\n",
              " ['administration'],\n",
              " ['revoked'],\n",
              " ['special'],\n",
              " ['status'],\n",
              " ['jammu'],\n",
              " ['kashmir'],\n",
              " ['.'],\n",
              " ['administration'],\n",
              " ['also'],\n",
              " ['introduced'],\n",
              " ['citizenship'],\n",
              " ['amendment'],\n",
              " ['act'],\n",
              " ['resulted'],\n",
              " ['widespread'],\n",
              " ['protests'],\n",
              " ['across'],\n",
              " ['country'],\n",
              " ['.'],\n",
              " ['described'],\n",
              " ['engineering'],\n",
              " ['political'],\n",
              " ['realignment'],\n",
              " ['towards'],\n",
              " ['right'],\n",
              " ['wing'],\n",
              " ['politics'],\n",
              " ['modi'],\n",
              " ['remains'],\n",
              " ['figure'],\n",
              " ['controversy'],\n",
              " ['domestically'],\n",
              " ['internationally'],\n",
              " ['hindu'],\n",
              " ['nationalist'],\n",
              " ['beliefs'],\n",
              " ['alleged'],\n",
              " ['role'],\n",
              " ['gujarat'],\n",
              " ['riots'],\n",
              " ['cited'],\n",
              " ['evidence'],\n",
              " ['exclusionary'],\n",
              " ['social'],\n",
              " ['agenda'],\n",
              " ['.']]"
            ]
          },
          "metadata": {
            "tags": []
          },
          "execution_count": 32
        }
      ]
    },
    {
      "cell_type": "markdown",
      "metadata": {
        "id": "F5QFxeuCTZYo"
      },
      "source": [
        "#### Training the Word2Vec model"
      ]
    },
    {
      "cell_type": "code",
      "metadata": {
        "id": "qu3g0YOPSTge"
      },
      "source": [
        "model = Word2Vec(new_sentences, min_count=1)"
      ],
      "execution_count": 33,
      "outputs": []
    },
    {
      "cell_type": "code",
      "metadata": {
        "id": "6hgYhkK3TwjQ",
        "outputId": "e8ea910d-b134-4802-c416-84ef21109ac9",
        "colab": {
          "base_uri": "https://localhost:8080/",
          "height": 1000
        }
      },
      "source": [
        "words= model.wv.vocab\n",
        "words"
      ],
      "execution_count": 34,
      "outputs": [
        {
          "output_type": "execute_result",
          "data": {
            "text/plain": [
              "{'.': <gensim.models.keyedvectors.Vocab at 0x7fa9350db5f8>,\n",
              " 'abandoned': <gensim.models.keyedvectors.Vocab at 0x7fa9350e04e0>,\n",
              " 'abolished': <gensim.models.keyedvectors.Vocab at 0x7fa93dff5fd0>,\n",
              " 'abolishing': <gensim.models.keyedvectors.Vocab at 0x7fa93720e9e8>,\n",
              " 'acknowledged': <gensim.models.keyedvectors.Vocab at 0x7fa9350e0550>,\n",
              " 'across': <gensim.models.keyedvectors.Vocab at 0x7fa9350d0160>,\n",
              " 'act': <gensim.models.keyedvectors.Vocab at 0x7fa951d4cc50>,\n",
              " 'administration': <gensim.models.keyedvectors.Vocab at 0x7fa937118ef0>,\n",
              " 'age': <gensim.models.keyedvectors.Vocab at 0x7fa9350e0198>,\n",
              " 'agenda': <gensim.models.keyedvectors.Vocab at 0x7fa937337128>,\n",
              " 'alleged': <gensim.models.keyedvectors.Vocab at 0x7fa93d86e630>,\n",
              " 'also': <gensim.models.keyedvectors.Vocab at 0x7fa93e2bca90>,\n",
              " 'amendment': <gensim.models.keyedvectors.Vocab at 0x7fa9523f91d0>,\n",
              " 'appointed': <gensim.models.keyedvectors.Vocab at 0x7fa937118ba8>,\n",
              " 'around': <gensim.models.keyedvectors.Vocab at 0x7fa9350e0630>,\n",
              " 'assembly': <gensim.models.keyedvectors.Vocab at 0x7fa937118f28>,\n",
              " 'assigned': <gensim.models.keyedvectors.Vocab at 0x7fa9371189e8>,\n",
              " 'association': <gensim.models.keyedvectors.Vocab at 0x7fa9350e0278>,\n",
              " 'atal': <gensim.models.keyedvectors.Vocab at 0x7fa9350d6fd0>,\n",
              " 'attempted': <gensim.models.keyedvectors.Vocab at 0x7fa93720ef28>,\n",
              " 'b': <gensim.models.keyedvectors.Vocab at 0x7fa937227a20>,\n",
              " 'banknotes': <gensim.models.keyedvectors.Vocab at 0x7fa93dea5908>,\n",
              " 'became': <gensim.models.keyedvectors.Vocab at 0x7fa9350d00b8>,\n",
              " 'began': <gensim.models.keyedvectors.Vocab at 0x7fa93720ecf8>,\n",
              " 'beginning': <gensim.models.keyedvectors.Vocab at 0x7fa9350e0208>,\n",
              " 'beliefs': <gensim.models.keyedvectors.Vocab at 0x7fa93d86e9b0>,\n",
              " 'bharatiya': <gensim.models.keyedvectors.Vocab at 0x7fa9350db780>,\n",
              " 'bhuj': <gensim.models.keyedvectors.Vocab at 0x7fa937118b00>,\n",
              " 'bihari': <gensim.models.keyedvectors.Vocab at 0x7fa9350d6550>,\n",
              " 'bjp': <gensim.models.keyedvectors.Vocab at 0x7fa9350db860>,\n",
              " 'born': <gensim.models.keyedvectors.Vocab at 0x7fa9350db240>,\n",
              " 'bureaucracy': <gensim.models.keyedvectors.Vocab at 0x7fa93720ee10>,\n",
              " 'c': <gensim.models.keyedvectors.Vocab at 0x7fa937227978>,\n",
              " 'campaign': <gensim.models.keyedvectors.Vocab at 0x7fa93720ebe0>,\n",
              " 'centralised': <gensim.models.keyedvectors.Vocab at 0x7fa93720ec50>,\n",
              " 'centres': <gensim.models.keyedvectors.Vocab at 0x7fa9350e0710>,\n",
              " 'chief': <gensim.models.keyedvectors.Vocab at 0x7fa9350db630>,\n",
              " 'child': <gensim.models.keyedvectors.Vocab at 0x7fa9350e0048>,\n",
              " 'chimanlal': <gensim.models.keyedvectors.Vocab at 0x7fa9350e04a8>,\n",
              " 'cited': <gensim.models.keyedvectors.Vocab at 0x7fa93d85ab00>,\n",
              " 'citizenship': <gensim.models.keyedvectors.Vocab at 0x7fa952d1e978>,\n",
              " 'commission': <gensim.models.keyedvectors.Vocab at 0x7fa93720ec88>,\n",
              " 'complete': <gensim.models.keyedvectors.Vocab at 0x7fa9350d6be0>,\n",
              " 'complicit': <gensim.models.keyedvectors.Vocab at 0x7fa937118ac8>,\n",
              " 'congress': <gensim.models.keyedvectors.Vocab at 0x7fa9350dbc18>,\n",
              " 'consecutive': <gensim.models.keyedvectors.Vocab at 0x7fa9350d60b8>,\n",
              " 'considered': <gensim.models.keyedvectors.Vocab at 0x7fa937118cf8>,\n",
              " 'controversial': <gensim.models.keyedvectors.Vocab at 0x7fa93720ea90>,\n",
              " 'controversy': <gensim.models.keyedvectors.Vocab at 0x7fa93d86ed30>,\n",
              " 'country': <gensim.models.keyedvectors.Vocab at 0x7fa9350d0198>,\n",
              " 'court': <gensim.models.keyedvectors.Vocab at 0x7fa937118c18>,\n",
              " 'credited': <gensim.models.keyedvectors.Vocab at 0x7fa9372279e8>,\n",
              " 'criticised': <gensim.models.keyedvectors.Vocab at 0x7fa937118358>,\n",
              " 'current': <gensim.models.keyedvectors.Vocab at 0x7fa9350db4a8>,\n",
              " 'damodardas': <gensim.models.keyedvectors.Vocab at 0x7fa9350dbfd0>,\n",
              " 'decades': <gensim.models.keyedvectors.Vocab at 0x7fa9350e05c0>,\n",
              " 'demonetisation': <gensim.models.keyedvectors.Vocab at 0x7fa93dea5b00>,\n",
              " 'denomination': <gensim.models.keyedvectors.Vocab at 0x7fa93dea52b0>,\n",
              " 'described': <gensim.models.keyedvectors.Vocab at 0x7fa93d8720f0>,\n",
              " 'direct': <gensim.models.keyedvectors.Vocab at 0x7fa937227e80>,\n",
              " 'domestically': <gensim.models.keyedvectors.Vocab at 0x7fa93d86ebe0>,\n",
              " 'due': <gensim.models.keyedvectors.Vocab at 0x7fa9350e0400>,\n",
              " 'earthquake': <gensim.models.keyedvectors.Vocab at 0x7fa937118b38>,\n",
              " 'economic': <gensim.models.keyedvectors.Vocab at 0x7fa9372278d0>,\n",
              " 'economy': <gensim.models.keyedvectors.Vocab at 0x7fa937227e48>,\n",
              " 'education': <gensim.models.keyedvectors.Vocab at 0x7fa937227cc0>,\n",
              " 'efficiency': <gensim.models.keyedvectors.Vocab at 0x7fa93720e438>,\n",
              " 'eight': <gensim.models.keyedvectors.Vocab at 0x7fa9350e01d0>,\n",
              " 'elected': <gensim.models.keyedvectors.Vocab at 0x7fa9371187f0>,\n",
              " 'election': <gensim.models.keyedvectors.Vocab at 0x7fa937227be0>,\n",
              " 'emergency': <gensim.models.keyedvectors.Vocab at 0x7fa9350d0128>,\n",
              " 'encouraging': <gensim.models.keyedvectors.Vocab at 0x7fa937227c18>,\n",
              " 'endr': <gensim.models.keyedvectors.Vocab at 0x7fa9350db198>,\n",
              " 'engineering': <gensim.models.keyedvectors.Vocab at 0x7fa93d872048>,\n",
              " 'environmental': <gensim.models.keyedvectors.Vocab at 0x7fa940fb8be0>,\n",
              " 'evidence': <gensim.models.keyedvectors.Vocab at 0x7fa93710b940>,\n",
              " 'exclusionary': <gensim.models.keyedvectors.Vocab at 0x7fa93de5f1d0>,\n",
              " 'failing': <gensim.models.keyedvectors.Vocab at 0x7fa9371188d0>,\n",
              " 'family': <gensim.models.keyedvectors.Vocab at 0x7fa9350d6940>,\n",
              " 'father': <gensim.models.keyedvectors.Vocab at 0x7fa9350d6dd8>,\n",
              " 'figure': <gensim.models.keyedvectors.Vocab at 0x7fa93d86ea58>,\n",
              " 'finishing': <gensim.models.keyedvectors.Vocab at 0x7fa9350e0320>,\n",
              " 'first': <gensim.models.keyedvectors.Vocab at 0x7fa9350dbb70>,\n",
              " 'five': <gensim.models.keyedvectors.Vocab at 0x7fa9350d6748>,\n",
              " 'following': <gensim.models.keyedvectors.Vocab at 0x7fa937118438>,\n",
              " 'forced': <gensim.models.keyedvectors.Vocab at 0x7fa9350d0208>,\n",
              " 'foreign': <gensim.models.keyedvectors.Vocab at 0x7fa937227eb8>,\n",
              " 'found': <gensim.models.keyedvectors.Vocab at 0x7fa93710bfd0>,\n",
              " 'full': <gensim.models.keyedvectors.Vocab at 0x7fa9350d6c18>,\n",
              " 'gave': <gensim.models.keyedvectors.Vocab at 0x7fa937227cf8>,\n",
              " 'general': <gensim.models.keyedvectors.Vocab at 0x7fa937118c88>,\n",
              " 'go': <gensim.models.keyedvectors.Vocab at 0x7fa9350d0240>,\n",
              " 'growth': <gensim.models.keyedvectors.Vocab at 0x7fa937227908>,\n",
              " 'gujarat': <gensim.models.keyedvectors.Vocab at 0x7fa9350db668>,\n",
              " 'gujarati': <gensim.models.keyedvectors.Vocab at 0x7fa9350db0f0>,\n",
              " 'handling': <gensim.models.keyedvectors.Vocab at 0x7fa937118780>,\n",
              " 'health': <gensim.models.keyedvectors.Vocab at 0x7fa937118e48>,\n",
              " 'healthcare': <gensim.models.keyedvectors.Vocab at 0x7fa937227898>,\n",
              " 'held': <gensim.models.keyedvectors.Vocab at 0x7fa937118940>,\n",
              " 'helped': <gensim.models.keyedvectors.Vocab at 0x7fa9350d6860>,\n",
              " 'hiding': <gensim.models.keyedvectors.Vocab at 0x7fa937118da0>,\n",
              " 'hierarchy': <gensim.models.keyedvectors.Vocab at 0x7fa937118c50>,\n",
              " 'high': <gensim.models.keyedvectors.Vocab at 0x7fa9350e0358>,\n",
              " 'hindu': <gensim.models.keyedvectors.Vocab at 0x7fa9350dba20>,\n",
              " 'home': <gensim.models.keyedvectors.Vocab at 0x7fa9350e02e8>,\n",
              " 'house': <gensim.models.keyedvectors.Vocab at 0x7fa937227748>,\n",
              " 'image': <gensim.models.keyedvectors.Vocab at 0x7fa937118f98>,\n",
              " 'imposed': <gensim.models.keyedvectors.Vocab at 0x7fa9350d01d0>,\n",
              " 'improve': <gensim.models.keyedvectors.Vocab at 0x7fa9372277f0>,\n",
              " 'india': <gensim.models.keyedvectors.Vocab at 0x7fa9350db588>,\n",
              " 'indian': <gensim.models.keyedvectors.Vocab at 0x7fa9350db320>,\n",
              " 'indices': <gensim.models.keyedvectors.Vocab at 0x7fa937227ac8>,\n",
              " 'initiate': <gensim.models.keyedvectors.Vocab at 0x7fa93710bcf8>,\n",
              " 'initiated': <gensim.models.keyedvectors.Vocab at 0x7fa93720eb00>,\n",
              " 'internationally': <gensim.models.keyedvectors.Vocab at 0x7fa93d86eba8>,\n",
              " 'introduced': <gensim.models.keyedvectors.Vocab at 0x7fa9350e0160>,\n",
              " 'investigation': <gensim.models.keyedvectors.Vocab at 0x7fa937118748>,\n",
              " 'investment': <gensim.models.keyedvectors.Vocab at 0x7fa937227d30>,\n",
              " 'jammu': <gensim.models.keyedvectors.Vocab at 0x7fa93e2e29e8>,\n",
              " 'janata': <gensim.models.keyedvectors.Vocab at 0x7fa9350db7f0>,\n",
              " 'jashodaben': <gensim.models.keyedvectors.Vocab at 0x7fa9350e0470>,\n",
              " 'kashmir': <gensim.models.keyedvectors.Vocab at 0x7fa93e2bce80>,\n",
              " 'keshubhai': <gensim.models.keyedvectors.Vocab at 0x7fa937118d68>,\n",
              " 'labour': <gensim.models.keyedvectors.Vocab at 0x7fa940fb8da0>,\n",
              " 'later': <gensim.models.keyedvectors.Vocab at 0x7fa9350e00b8>,\n",
              " 'laws': <gensim.models.keyedvectors.Vocab at 0x7fa940fb8358>,\n",
              " 'led': <gensim.models.keyedvectors.Vocab at 0x7fa937227dd8>,\n",
              " 'left': <gensim.models.keyedvectors.Vocab at 0x7fa9350e02b0>,\n",
              " 'legislative': <gensim.models.keyedvectors.Vocab at 0x7fa937118cc0>,\n",
              " 'lok': <gensim.models.keyedvectors.Vocab at 0x7fa937227d68>,\n",
              " 'long': <gensim.models.keyedvectors.Vocab at 0x7fa9350e0240>,\n",
              " 'lower': <gensim.models.keyedvectors.Vocab at 0x7fa937227828>,\n",
              " 'majority': <gensim.models.keyedvectors.Vocab at 0x7fa9350d6048>,\n",
              " 'many': <gensim.models.keyedvectors.Vocab at 0x7fa9350e0588>,\n",
              " 'marriage': <gensim.models.keyedvectors.Vocab at 0x7fa9350e0438>,\n",
              " 'member': <gensim.models.keyedvectors.Vocab at 0x7fa9350db6a0>,\n",
              " 'minister': <gensim.models.keyedvectors.Vocab at 0x7fa9350db550>,\n",
              " 'mod': <gensim.models.keyedvectors.Vocab at 0x7fa9350db1d0>,\n",
              " 'modi': <gensim.models.keyedvectors.Vocab at 0x7fa9350db048>,\n",
              " 'n': <gensim.models.keyedvectors.Vocab at 0x7fa9350db160>,\n",
              " 'narendra': <gensim.models.keyedvectors.Vocab at 0x7fa9350dbf98>,\n",
              " 'national': <gensim.models.keyedvectors.Vocab at 0x7fa9350dbbe0>,\n",
              " 'nationalist': <gensim.models.keyedvectors.Vocab at 0x7fa9350dba90>,\n",
              " 'number': <gensim.models.keyedvectors.Vocab at 0x7fa9350e06a0>,\n",
              " 'office': <gensim.models.keyedvectors.Vocab at 0x7fa9350d6da0>,\n",
              " 'organisation': <gensim.models.keyedvectors.Vocab at 0x7fa9350dbb38>,\n",
              " 'otherwise': <gensim.models.keyedvectors.Vocab at 0x7fa937118828>,\n",
              " 'outside': <gensim.models.keyedvectors.Vocab at 0x7fa9350dbba8>,\n",
              " 'parliament': <gensim.models.keyedvectors.Vocab at 0x7fa9350db6d8>,\n",
              " 'part': <gensim.models.keyedvectors.Vocab at 0x7fa9350e03c8>,\n",
              " 'party': <gensim.models.keyedvectors.Vocab at 0x7fa9350db828>,\n",
              " 'patel': <gensim.models.keyedvectors.Vocab at 0x7fa937118e80>,\n",
              " 'personally': <gensim.models.keyedvectors.Vocab at 0x7fa937227e10>,\n",
              " 'planning': <gensim.models.keyedvectors.Vocab at 0x7fa93720ed30>,\n",
              " 'policies': <gensim.models.keyedvectors.Vocab at 0x7fa9372279b0>,\n",
              " 'political': <gensim.models.keyedvectors.Vocab at 0x7fa93d872470>,\n",
              " 'politician': <gensim.models.keyedvectors.Vocab at 0x7fa9350db390>,\n",
              " 'politics': <gensim.models.keyedvectors.Vocab at 0x7fa93e11f828>,\n",
              " 'poor': <gensim.models.keyedvectors.Vocab at 0x7fa937118eb8>,\n",
              " 'positions': <gensim.models.keyedvectors.Vocab at 0x7fa937118908>,\n",
              " 'poverty': <gensim.models.keyedvectors.Vocab at 0x7fa937227780>,\n",
              " 'power': <gensim.models.keyedvectors.Vocab at 0x7fa93720e4a8>,\n",
              " 'praise': <gensim.models.keyedvectors.Vocab at 0x7fa937227a58>,\n",
              " 'prime': <gensim.models.keyedvectors.Vocab at 0x7fa9350db4e0>,\n",
              " 'proceedings': <gensim.models.keyedvectors.Vocab at 0x7fa95b689ef0>,\n",
              " 'profile': <gensim.models.keyedvectors.Vocab at 0x7fa93720eeb8>,\n",
              " 'programmes': <gensim.models.keyedvectors.Vocab at 0x7fa93e243a20>,\n",
              " 'pronunciation': <gensim.models.keyedvectors.Vocab at 0x7fa9350db128>,\n",
              " 'prosecution': <gensim.models.keyedvectors.Vocab at 0x7fa93710bb70>,\n",
              " 'protests': <gensim.models.keyedvectors.Vocab at 0x7fa93d872278>,\n",
              " 'public': <gensim.models.keyedvectors.Vocab at 0x7fa937118f60>,\n",
              " 'publicly': <gensim.models.keyedvectors.Vocab at 0x7fa9350e0518>,\n",
              " 'raise': <gensim.models.keyedvectors.Vocab at 0x7fa937227b70>,\n",
              " 'ran': <gensim.models.keyedvectors.Vocab at 0x7fa9350e00f0>,\n",
              " 'rank': <gensim.models.keyedvectors.Vocab at 0x7fa937118898>,\n",
              " 'rashtriya': <gensim.models.keyedvectors.Vocab at 0x7fa9350db8d0>,\n",
              " 'realignment': <gensim.models.keyedvectors.Vocab at 0x7fa93d8720b8>,\n",
              " 'received': <gensim.models.keyedvectors.Vocab at 0x7fa937227a90>,\n",
              " 'reduced': <gensim.models.keyedvectors.Vocab at 0x7fa937227668>,\n",
              " 'religious': <gensim.models.keyedvectors.Vocab at 0x7fa9350e06d8>,\n",
              " 'remains': <gensim.models.keyedvectors.Vocab at 0x7fa93e11f7b8>,\n",
              " 'resulted': <gensim.models.keyedvectors.Vocab at 0x7fa951d4ca58>,\n",
              " 'returning': <gensim.models.keyedvectors.Vocab at 0x7fa9602b97b8>,\n",
              " 'revoked': <gensim.models.keyedvectors.Vocab at 0x7fa940fb8cc0>,\n",
              " 'right': <gensim.models.keyedvectors.Vocab at 0x7fa93e11f400>,\n",
              " 'riots': <gensim.models.keyedvectors.Vocab at 0x7fa937118a90>,\n",
              " 'rising': <gensim.models.keyedvectors.Vocab at 0x7fa937118dd8>,\n",
              " 'role': <gensim.models.keyedvectors.Vocab at 0x7fa93d86ec50>,\n",
              " 'rss': <gensim.models.keyedvectors.Vocab at 0x7fa9350db9b0>,\n",
              " 'sabha': <gensim.models.keyedvectors.Vocab at 0x7fa937227c88>,\n",
              " 'said': <gensim.models.keyedvectors.Vocab at 0x7fa9350e0080>,\n",
              " 'sangh': <gensim.models.keyedvectors.Vocab at 0x7fa9350db978>,\n",
              " 'sanitation': <gensim.models.keyedvectors.Vocab at 0x7fa93720ef60>,\n",
              " 'school': <gensim.models.keyedvectors.Vocab at 0x7fa9350e0390>,\n",
              " 'second': <gensim.models.keyedvectors.Vocab at 0x7fa9350d65c0>,\n",
              " 'secretary': <gensim.models.keyedvectors.Vocab at 0x7fa937118390>,\n",
              " 'sell': <gensim.models.keyedvectors.Vocab at 0x7fa9350d6b00>,\n",
              " 'september': <gensim.models.keyedvectors.Vocab at 0x7fa9350db2b0>,\n",
              " 'serving': <gensim.models.keyedvectors.Vocab at 0x7fa9350db3c8>,\n",
              " 'several': <gensim.models.keyedvectors.Vocab at 0x7fa937118a58>,\n",
              " 'significantly': <gensim.models.keyedvectors.Vocab at 0x7fa9372275f8>,\n",
              " 'since': <gensim.models.keyedvectors.Vocab at 0x7fa9350db5c0>,\n",
              " 'single': <gensim.models.keyedvectors.Vocab at 0x7fa937227ba8>,\n",
              " 'social': <gensim.models.keyedvectors.Vocab at 0x7fa9372272e8>,\n",
              " 'soon': <gensim.models.keyedvectors.Vocab at 0x7fa9371189b0>,\n",
              " 'soundlisten': <gensim.models.keyedvectors.Vocab at 0x7fa9350db208>,\n",
              " 'special': <gensim.models.keyedvectors.Vocab at 0x7fa937118860>,\n",
              " 'spending': <gensim.models.keyedvectors.Vocab at 0x7fa937227f60>,\n",
              " 'stall': <gensim.models.keyedvectors.Vocab at 0x7fa9350e0128>,\n",
              " 'state': <gensim.models.keyedvectors.Vocab at 0x7fa9350d00f0>,\n",
              " 'status': <gensim.models.keyedvectors.Vocab at 0x7fa93e2e2748>,\n",
              " 'supreme': <gensim.models.keyedvectors.Vocab at 0x7fa9371186d8>,\n",
              " 'swayamsevak': <gensim.models.keyedvectors.Vocab at 0x7fa9350db940>,\n",
              " 'tea': <gensim.models.keyedvectors.Vocab at 0x7fa9350d68d0>,\n",
              " 'team': <gensim.models.keyedvectors.Vocab at 0x7fa93710bc88>,\n",
              " 'terms': <gensim.models.keyedvectors.Vocab at 0x7fa9350d6f98>,\n",
              " 'th': <gensim.models.keyedvectors.Vocab at 0x7fa9350db438>,\n",
              " 'time': <gensim.models.keyedvectors.Vocab at 0x7fa9350d0048>,\n",
              " 'towards': <gensim.models.keyedvectors.Vocab at 0x7fa93e11fd68>,\n",
              " 'travelled': <gensim.models.keyedvectors.Vocab at 0x7fa9350e05f8>,\n",
              " 'tried': <gensim.models.keyedvectors.Vocab at 0x7fa9372270b8>,\n",
              " 'two': <gensim.models.keyedvectors.Vocab at 0x7fa9350d6470>,\n",
              " 'vadnagar': <gensim.models.keyedvectors.Vocab at 0x7fa9350d6400>,\n",
              " 'vajpayee': <gensim.models.keyedvectors.Vocab at 0x7fa9350d6780>,\n",
              " 'varanasi': <gensim.models.keyedvectors.Vocab at 0x7fa9350db748>,\n",
              " 'victory': <gensim.models.keyedvectors.Vocab at 0x7fa940fb88d0>,\n",
              " 'visited': <gensim.models.keyedvectors.Vocab at 0x7fa9350e0668>,\n",
              " 'volunteer': <gensim.models.keyedvectors.Vocab at 0x7fa9350dbb00>,\n",
              " 'weakened': <gensim.models.keyedvectors.Vocab at 0x7fa9668cacc0>,\n",
              " 'welfare': <gensim.models.keyedvectors.Vocab at 0x7fa940f471d0>,\n",
              " 'widespread': <gensim.models.keyedvectors.Vocab at 0x7fa96cae8978>,\n",
              " 'win': <gensim.models.keyedvectors.Vocab at 0x7fa9350dbc88>,\n",
              " 'wing': <gensim.models.keyedvectors.Vocab at 0x7fa93e11fb70>,\n",
              " 'within': <gensim.models.keyedvectors.Vocab at 0x7fa9371187b8>,\n",
              " 'worker': <gensim.models.keyedvectors.Vocab at 0x7fa9350d0080>,\n",
              " 'years': <gensim.models.keyedvectors.Vocab at 0x7fa9350d6320>}"
            ]
          },
          "metadata": {
            "tags": []
          },
          "execution_count": 34
        }
      ]
    },
    {
      "cell_type": "code",
      "metadata": {
        "id": "8qCqJK_bUPKO",
        "outputId": "f372f82b-dd9a-4425-9c6f-873ec432598a",
        "colab": {
          "base_uri": "https://localhost:8080/",
          "height": 468
        }
      },
      "source": [
        "model.wv['victory'], model.wv['victory'].shape"
      ],
      "execution_count": 36,
      "outputs": [
        {
          "output_type": "execute_result",
          "data": {
            "text/plain": [
              "(array([ 3.4325947e-03,  4.1201250e-03,  2.3524996e-03,  4.6067062e-04,\n",
              "         2.2040743e-03,  2.8835232e-03,  6.4237294e-04,  5.9972517e-04,\n",
              "         3.9601189e-05,  2.7099317e-03, -4.9956504e-04,  4.5365035e-03,\n",
              "        -4.2223805e-03, -3.7546232e-04,  2.1792140e-03,  8.2889083e-04,\n",
              "         1.5500928e-03,  1.7118196e-04,  6.7281985e-04, -4.0365453e-03,\n",
              "         3.3804905e-03,  4.9818266e-04,  2.2359400e-03, -1.7477188e-04,\n",
              "         1.3136052e-03,  4.4105588e-03,  3.7757116e-03,  4.9366429e-03,\n",
              "        -2.2526095e-03,  4.8233322e-03, -1.8633187e-03,  3.2545289e-03,\n",
              "        -3.5165988e-03, -3.2124103e-03,  2.1896478e-04,  3.6602656e-03,\n",
              "         2.1047913e-03,  2.2216341e-03, -2.5373693e-03,  4.8134490e-03,\n",
              "        -1.6771270e-03,  2.5488173e-03,  4.1234381e-03,  4.1630636e-03,\n",
              "        -1.8435631e-04,  1.4906087e-03, -9.3823479e-04,  1.4876808e-03,\n",
              "         2.1696305e-03, -8.9487678e-04, -9.1031223e-04, -2.2787305e-03,\n",
              "         1.2670398e-03, -3.1215043e-03,  3.1981647e-03,  2.6303418e-03,\n",
              "        -2.2403756e-03, -1.3704365e-03,  9.7398457e-05, -3.7838714e-03,\n",
              "        -4.8833438e-03,  3.9408398e-03, -3.4589970e-03, -1.4690786e-03,\n",
              "         4.9631740e-03,  3.6820190e-03, -2.9964712e-03,  1.3113986e-03,\n",
              "        -1.9443842e-03,  3.7293064e-03, -2.8633203e-03,  3.3087186e-03,\n",
              "        -1.2405249e-03,  2.6025057e-03, -9.0429786e-04,  2.3330613e-03,\n",
              "         7.0821022e-04,  4.3853230e-04, -1.9707202e-03,  1.9492713e-03,\n",
              "        -4.7846953e-03,  2.9701766e-04,  2.6331020e-03,  1.8863386e-03,\n",
              "         1.2971190e-03, -2.0754633e-03, -1.0143502e-03, -6.0258829e-04,\n",
              "         1.4777445e-04, -1.5542209e-03, -1.7512690e-03, -3.3087644e-03,\n",
              "        -3.6069488e-03,  2.6167885e-03,  6.9806993e-04,  4.7561214e-03,\n",
              "        -1.3443383e-03,  7.2589566e-05,  4.6248473e-03, -2.8939506e-03],\n",
              "       dtype=float32), (100,))"
            ]
          },
          "metadata": {
            "tags": []
          },
          "execution_count": 36
        }
      ]
    },
    {
      "cell_type": "markdown",
      "metadata": {
        "id": "iC2REe21U55R"
      },
      "source": [
        "#### get most similar words from words vector"
      ]
    },
    {
      "cell_type": "code",
      "metadata": {
        "id": "eV3QXtRwUsW1",
        "outputId": "56f02261-16e8-4c53-9c3b-8fbcdea1629c",
        "colab": {
          "base_uri": "https://localhost:8080/",
          "height": 245
        }
      },
      "source": [
        "model.wv.most_similar('school')"
      ],
      "execution_count": 39,
      "outputs": [
        {
          "output_type": "stream",
          "text": [
            "/usr/local/lib/python3.6/dist-packages/gensim/matutils.py:737: FutureWarning: Conversion of the second argument of issubdtype from `int` to `np.signedinteger` is deprecated. In future, it will be treated as `np.int64 == np.dtype(int).type`.\n",
            "  if np.issubdtype(vec.dtype, np.int):\n"
          ],
          "name": "stderr"
        },
        {
          "output_type": "execute_result",
          "data": {
            "text/plain": [
              "[('attempted', 0.30442100763320923),\n",
              " ('prosecution', 0.27562108635902405),\n",
              " ('swayamsevak', 0.2569020390510559),\n",
              " ('eight', 0.24499791860580444),\n",
              " ('child', 0.23313800990581512),\n",
              " ('time', 0.23122204840183258),\n",
              " ('found', 0.2143861949443817),\n",
              " ('across', 0.21185040473937988),\n",
              " ('administration', 0.19628188014030457),\n",
              " ('evidence', 0.19020646810531616)]"
            ]
          },
          "metadata": {
            "tags": []
          },
          "execution_count": 39
        }
      ]
    },
    {
      "cell_type": "code",
      "metadata": {
        "id": "BkJLeZpCVDFa"
      },
      "source": [
        ""
      ],
      "execution_count": null,
      "outputs": []
    }
  ]
}